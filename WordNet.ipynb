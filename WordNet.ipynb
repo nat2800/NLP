{
 "cells": [
  {
   "cell_type": "code",
   "execution_count": 123,
   "id": "76d08d24",
   "metadata": {},
   "outputs": [
    {
     "name": "stderr",
     "output_type": "stream",
     "text": [
      "[nltk_data] Downloading package wordnet to\n",
      "[nltk_data]     C:\\Users\\nat28\\AppData\\Roaming\\nltk_data...\n",
      "[nltk_data]   Package wordnet is already up-to-date!\n",
      "[nltk_data] Downloading package omw-1.4 to\n",
      "[nltk_data]     C:\\Users\\nat28\\AppData\\Roaming\\nltk_data...\n",
      "[nltk_data]   Package omw-1.4 is already up-to-date!\n",
      "[nltk_data] Downloading package sentiwordnet to\n",
      "[nltk_data]     C:\\Users\\nat28\\AppData\\Roaming\\nltk_data...\n",
      "[nltk_data]   Package sentiwordnet is already up-to-date!\n"
     ]
    },
    {
     "name": "stdout",
     "output_type": "stream",
     "text": [
      "*** Introductory Examples for the NLTK Book ***\n",
      "Loading text1, ..., text9 and sent1, ..., sent9\n",
      "Type the name of the text or sentence to view it.\n",
      "Type: 'texts()' or 'sents()' to list the materials.\n",
      "text1: Moby Dick by Herman Melville 1851\n",
      "text2: Sense and Sensibility by Jane Austen 1811\n",
      "text3: The Book of Genesis\n",
      "text4: Inaugural Address Corpus\n",
      "text5: Chat Corpus\n",
      "text6: Monty Python and the Holy Grail\n",
      "text7: Wall Street Journal\n",
      "text8: Personals Corpus\n",
      "text9: The Man Who Was Thursday by G . K . Chesterton 1908\n"
     ]
    }
   ],
   "source": [
    "from nltk.corpus import wordnet as wn\n",
    "import nltk\n",
    "from nltk.wsd import lesk\n",
    "from nltk.corpus import sentiwordnet as swn\n",
    "nltk.download('wordnet')\n",
    "nltk.download('omw-1.4')\n",
    "nltk.download('sentiwordnet')\n",
    "\n",
    "from nltk.book import *\n",
    "##1\n",
    "#Often times, when working with language, it is useful to have a pre-made model of words and grammar. This is where WordNet\n",
    "#comes in. WordNet provides words with their synsets and links words to similar words. Wordnet also has other tools to assist\n",
    "#you in language processing."
   ]
  },
  {
   "cell_type": "code",
   "execution_count": 42,
   "id": "72cc0376",
   "metadata": {
    "scrolled": true
   },
   "outputs": [
    {
     "data": {
      "text/plain": [
       "[Synset('bat.n.01'),\n",
       " Synset('bat.n.02'),\n",
       " Synset('squash_racket.n.01'),\n",
       " Synset('cricket_bat.n.01'),\n",
       " Synset('bat.n.05'),\n",
       " Synset('bat.v.01'),\n",
       " Synset('bat.v.02'),\n",
       " Synset('bat.v.03'),\n",
       " Synset('bat.v.04'),\n",
       " Synset('cream.v.02')]"
      ]
     },
     "execution_count": 42,
     "metadata": {},
     "output_type": "execute_result"
    }
   ],
   "source": [
    "##2\n",
    "\n",
    "bat = wn.synset('bat.n.01')\n",
    "wn.synsets('bat')"
   ]
  },
  {
   "cell_type": "code",
   "execution_count": null,
   "id": "6ee58a05",
   "metadata": {},
   "outputs": [],
   "source": []
  },
  {
   "cell_type": "code",
   "execution_count": 48,
   "id": "03edd00c",
   "metadata": {},
   "outputs": [
    {
     "name": "stdout",
     "output_type": "stream",
     "text": [
      "nocturnal mouselike mammal with forelimbs modified to form membranous wings and anatomical adaptations for echolocation by which they navigate\n",
      "[]\n",
      "[Lemma('bat.n.02.bat'), Lemma('bat.n.02.at-bat')]\n"
     ]
    }
   ],
   "source": [
    "print(wn.synset('bat.n.01').definition())\n",
    "print(wn.synset('bat.n.01').examples())\n",
    "print(wn.synset('bat.n.02').lemmas())"
   ]
  },
  {
   "cell_type": "code",
   "execution_count": 43,
   "id": "32d8be43",
   "metadata": {},
   "outputs": [
    {
     "data": {
      "text/plain": [
       "[Synset('placental.n.01'),\n",
       " Synset('mammal.n.01'),\n",
       " Synset('vertebrate.n.01'),\n",
       " Synset('chordate.n.01'),\n",
       " Synset('animal.n.01'),\n",
       " Synset('organism.n.01'),\n",
       " Synset('living_thing.n.01'),\n",
       " Synset('whole.n.02'),\n",
       " Synset('object.n.01'),\n",
       " Synset('physical_entity.n.01'),\n",
       " Synset('entity.n.01')]"
      ]
     },
     "execution_count": 43,
     "metadata": {},
     "output_type": "execute_result"
    }
   ],
   "source": [
    "##3 \n",
    "hyper = lambda s: s.hypernyms()\n",
    "list(bat.closure(hyper))\n",
    "#Wordnet likes to traverse these words in a hierarchical sense. This is very easy to see when we use an animal with a built in\n",
    "#hierarchical structure. Bat goes from placental, to mammal, to vertebrate, etc. It is traversing the animal kingdom hierarchy \n",
    "#to show you the roots of words."
   ]
  },
  {
   "cell_type": "code",
   "execution_count": 65,
   "id": "3cb4885d",
   "metadata": {},
   "outputs": [
    {
     "name": "stdout",
     "output_type": "stream",
     "text": [
      "[Synset('placental.n.01')]\n",
      "[Synset('carnivorous_bat.n.01'), Synset('fruit_bat.n.01')]\n",
      "[Synset('wing.n.01')]\n",
      "[]\n",
      "[]\n"
     ]
    }
   ],
   "source": [
    "##4\n",
    "print(bat.hypernyms())\n",
    "print(bat.hyponyms())\n",
    "print(bat.part_meronyms())\n",
    "print(bat.part_holonyms())\n",
    "print(bat.lemmas()[0].antonyms())"
   ]
  },
  {
   "cell_type": "code",
   "execution_count": 66,
   "id": "d823f451",
   "metadata": {},
   "outputs": [
    {
     "data": {
      "text/plain": [
       "[Synset('hit.n.01'),\n",
       " Synset('hit.n.02'),\n",
       " Synset('hit.n.03'),\n",
       " Synset('collision.n.01'),\n",
       " Synset('hit.n.05'),\n",
       " Synset('hit.n.06'),\n",
       " Synset('hit.n.07'),\n",
       " Synset('hit.v.01'),\n",
       " Synset('hit.v.02'),\n",
       " Synset('hit.v.03'),\n",
       " Synset('reach.v.01'),\n",
       " Synset('hit.v.05'),\n",
       " Synset('shoot.v.01'),\n",
       " Synset('stumble.v.03'),\n",
       " Synset('score.v.01'),\n",
       " Synset('hit.v.09'),\n",
       " Synset('strike.v.04'),\n",
       " Synset('murder.v.01'),\n",
       " Synset('hit.v.12'),\n",
       " Synset('reach.v.02'),\n",
       " Synset('strike.v.10'),\n",
       " Synset('hit.v.15'),\n",
       " Synset('hit.v.16'),\n",
       " Synset('hit.v.17')]"
      ]
     },
     "execution_count": 66,
     "metadata": {},
     "output_type": "execute_result"
    }
   ],
   "source": [
    "##5\n",
    "bat = wn.synset('hit.v.01')\n",
    "wn.synsets('hit')"
   ]
  },
  {
   "cell_type": "code",
   "execution_count": 70,
   "id": "f4dcf926",
   "metadata": {},
   "outputs": [
    {
     "name": "stdout",
     "output_type": "stream",
     "text": [
      "cause to move by striking\n",
      "['hit a ball']\n",
      "[Lemma('hit.v.01.hit')]\n"
     ]
    }
   ],
   "source": [
    "##6\n",
    "print(wn.synset('hit.v.01').definition())\n",
    "print(wn.synset('hit.v.01').examples())\n",
    "print(wn.synset('hit.v.01').lemmas())"
   ]
  },
  {
   "cell_type": "code",
   "execution_count": 78,
   "id": "cdb0c5f0",
   "metadata": {},
   "outputs": [
    {
     "name": "stdout",
     "output_type": "stream",
     "text": [
      "hit\n",
      "hit\n",
      "None\n"
     ]
    }
   ],
   "source": [
    "##7\n",
    "print(wn.morphy('hitting', wn.VERB))\n",
    "print(wn.morphy('hits', wn.VERB))\n",
    "\n"
   ]
  },
  {
   "cell_type": "code",
   "execution_count": 97,
   "id": "811d3410",
   "metadata": {},
   "outputs": [
    {
     "data": {
      "text/plain": [
       "0.8571428571428571"
      ]
     },
     "execution_count": 97,
     "metadata": {},
     "output_type": "execute_result"
    }
   ],
   "source": [
    "##8\n",
    "run = wn.synset('run.v.01')\n",
    "jog = wn.synset('jog.v.03')\n",
    "wn.wup_similarity(run, jog)\n",
    "#Run and jog are the most similar words I could think of. It would make sense that they traverse the hierarchy of words very\n",
    "#similarly. Note: it is important to make sure that you specify if the words are verbs. Jog or run can be taken as a noun."
   ]
  },
  {
   "cell_type": "code",
   "execution_count": 100,
   "id": "e4de9279",
   "metadata": {},
   "outputs": [
    {
     "name": "stdout",
     "output_type": "stream",
     "text": [
      "Synset('scat.v.01')\n"
     ]
    }
   ],
   "source": [
    "sent = ['I', 'run', 'every', 'morning', '.']\n",
    "print(lesk(sent, 'run'))"
   ]
  },
  {
   "cell_type": "code",
   "execution_count": 101,
   "id": "34e202ab",
   "metadata": {},
   "outputs": [
    {
     "name": "stdout",
     "output_type": "stream",
     "text": [
      "flee; take to one's heels; cut and run\n"
     ]
    }
   ],
   "source": [
    "print(wn.synset('scat.v.01').definition())\n",
    "\n",
    "#I had no idea what \"scat\" meant other than a vulgar word. It was probably used before my time."
   ]
  },
  {
   "cell_type": "code",
   "execution_count": 102,
   "id": "6acca0fd",
   "metadata": {},
   "outputs": [
    {
     "name": "stdout",
     "output_type": "stream",
     "text": [
      "Synset('trot.v.01')\n"
     ]
    }
   ],
   "source": [
    "sent = ['I', 'jog', 'every', 'morning', '.']\n",
    "print(lesk(sent, 'jog'))\n",
    "\n",
    "#I don't need the definition of trot, however, because it is a term that I use."
   ]
  },
  {
   "cell_type": "code",
   "execution_count": 108,
   "id": "63006a11",
   "metadata": {},
   "outputs": [
    {
     "data": {
      "text/plain": [
       "SentiSynset('hate.v.01')"
      ]
     },
     "execution_count": 108,
     "metadata": {},
     "output_type": "execute_result"
    }
   ],
   "source": [
    "##9\n",
    "#SentiWordNet is, in my opinion, one of the most complicated but useful tools. For computers, it is very hard to understand \n",
    "#sentiment in human language. It amazes me that we have found a model that uses context to somewhat accurately determine\n",
    "#sentiment.\n",
    "# Hate\n",
    "hate = swn.senti_synset('hate.v.01')\n"
   ]
  },
  {
   "cell_type": "code",
   "execution_count": 109,
   "id": "4b606548",
   "metadata": {},
   "outputs": [
    {
     "name": "stdout",
     "output_type": "stream",
     "text": [
      "<hate.n.01: PosScore=0.125 NegScore=0.375>\n",
      "<hate.v.01: PosScore=0.0 NegScore=0.75>\n"
     ]
    }
   ],
   "source": [
    "senti_list = list(swn.senti_synsets('hate')) \n",
    "for item in senti_list:\n",
    "    print(item)\n",
    "#It seems the verb has a higher negative score than the noun. The noun even has a PosScore value\n",
    "\n"
   ]
  },
  {
   "cell_type": "code",
   "execution_count": 115,
   "id": "a5b3a7d0",
   "metadata": {},
   "outputs": [
    {
     "data": {
      "text/plain": [
       "['I', 'hate', 'violent', 'serial', 'killers']"
      ]
     },
     "execution_count": 115,
     "metadata": {},
     "output_type": "execute_result"
    }
   ],
   "source": []
  },
  {
   "cell_type": "code",
   "execution_count": 121,
   "id": "b6fe1dc7",
   "metadata": {
    "scrolled": true
   },
   "outputs": [
    {
     "name": "stdout",
     "output_type": "stream",
     "text": [
      "I\n",
      "negative:  0.0\n",
      "positive:  0.0\n",
      "objective:  1.0\n",
      "hate\n",
      "negative:  0.375\n",
      "positive:  0.125\n",
      "objective:  0.5\n",
      "violent\n",
      "negative:  0.125\n",
      "positive:  0.25\n",
      "objective:  0.625\n",
      "serial\n",
      "negative:  0.0\n",
      "positive:  0.0\n",
      "objective:  1.0\n",
      "killers\n",
      "negative:  0.375\n",
      "positive:  0.0\n",
      "objective:  0.625\n"
     ]
    }
   ],
   "source": [
    "#I want to try a very negative sentence\n",
    "#Sentence: I hate violent serial killers\n",
    "\n",
    "sent = 'I hate violent serial killers'\n",
    "\n",
    "tokens = sent.split()\n",
    "for i in tokens:\n",
    "    print(i)\n",
    "    p = list(swn.senti_synsets(i))[0]\n",
    "    print(\"negative: \", p.neg_score())\n",
    "    print(\"positive: \", p.pos_score())\n",
    "    print(\"objective: \", p.obj_score())\n",
    "\n",
    "# Overall, it seems that SentiWordNet likes to attribute a bit more to objective than anything. \n",
    "# I would think that violent is a much more negative word, but its value is only .125\n"
   ]
  },
  {
   "cell_type": "code",
   "execution_count": 125,
   "id": "595ced5f",
   "metadata": {},
   "outputs": [
    {
     "name": "stdout",
     "output_type": "stream",
     "text": [
      "United States; fellow citizens; years ago; four years; Federal\n",
      "Government; General Government; American people; Vice President; God\n",
      "bless; Chief Justice; one another; fellow Americans; Old World;\n",
      "Almighty God; Fellow citizens; Chief Magistrate; every citizen; Indian\n",
      "tribes; public debt; foreign nations\n"
     ]
    }
   ],
   "source": [
    "text4.collocations()\n",
    "#A collocation is a combination of words that fit together to mean one thing. Examples include \"county jail\", \"acoustic guitar\",\n",
    "# and \"chewing gum\""
   ]
  },
  {
   "cell_type": "code",
   "execution_count": 129,
   "id": "9e97d863",
   "metadata": {},
   "outputs": [
    {
     "name": "stdout",
     "output_type": "stream",
     "text": [
      "p(Chief Justice) =  0.001396508728179551\n",
      "p(Chief) =  0.002793017456359102\n",
      "p(Justice) =  0.002394014962593516\n",
      "pmi =  7.706352115508489\n"
     ]
    }
   ],
   "source": [
    "##10\n",
    "import math\n",
    "text = ' '.join(text4.tokens)\n",
    "vocab = len(set(text4))\n",
    "cj = text.count('Chief Justice')/vocab\n",
    "print(\"p(Chief Justice) = \",cj )\n",
    "c = text.count('Chief')/vocab\n",
    "print(\"p(Chief) = \", c)\n",
    "j = text.count('Justice')/vocab\n",
    "print('p(Justice) = ', j)\n",
    "pmi = math.log2(cj / (c * j))\n",
    "print('pmi = ', pmi)\n",
    "\n",
    "#Using the PMI formula, (P(x,y)/[P(x)*P(Y)]), the PMI came out to be 7.706. This is a high PMI value, indicating that\n",
    "#\"Chief Justice\" is a collocation."
   ]
  }
 ],
 "metadata": {
  "kernelspec": {
   "display_name": "Python 3 (ipykernel)",
   "language": "python",
   "name": "python3"
  },
  "language_info": {
   "codemirror_mode": {
    "name": "ipython",
    "version": 3
   },
   "file_extension": ".py",
   "mimetype": "text/x-python",
   "name": "python",
   "nbconvert_exporter": "python",
   "pygments_lexer": "ipython3",
   "version": "3.9.7"
  }
 },
 "nbformat": 4,
 "nbformat_minor": 5
}
